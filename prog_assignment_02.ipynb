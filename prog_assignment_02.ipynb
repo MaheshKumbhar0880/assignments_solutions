{
 "cells": [
  {
   "cell_type": "code",
   "execution_count": 1,
   "id": "433b8dee",
   "metadata": {},
   "outputs": [
    {
     "name": "stdout",
     "output_type": "stream",
     "text": [
      "The the distance in kilometers that you want to convert into miles :\n",
      "50\n",
      "Your distance in miles = 31.068550000000002\n"
     ]
    }
   ],
   "source": [
    "# Q.01 Write a Python program to convert kilometers to miles? --->\n",
    "\n",
    "km = int(input(\"The the distance in kilometers that you want to convert into miles :\\n\"))\n",
    "\n",
    "miles = (km * 0.621371)\n",
    "\n",
    "print(f\"Your distance in miles = {miles}\")"
   ]
  },
  {
   "cell_type": "code",
   "execution_count": 2,
   "id": "c0f18836",
   "metadata": {},
   "outputs": [
    {
     "name": "stdout",
     "output_type": "stream",
     "text": [
      "Enter the temp (in celcius): 0\n",
      "The converted temp in Fahrenheit = 32.0\n"
     ]
    }
   ],
   "source": [
    "# Q.02 Write a Python program to convert Celsius to Fahrenheit?\n",
    "\n",
    "cel = int(input(\"Enter the temp (in celcius): \"))\n",
    "fh = (cel * 9/5) + 32\n",
    "\n",
    "print(f\"The converted temp in Fahrenheit = {fh}\")"
   ]
  },
  {
   "cell_type": "code",
   "execution_count": 3,
   "id": "34b55832",
   "metadata": {},
   "outputs": [
    {
     "name": "stdout",
     "output_type": "stream",
     "text": [
      "Enter the month for which you ant to display the calender:12\n",
      "Enter the year for which you ant to display the calender:2022\n",
      "   December 2022\n",
      "Mo Tu We Th Fr Sa Su\n",
      "          1  2  3  4\n",
      " 5  6  7  8  9 10 11\n",
      "12 13 14 15 16 17 18\n",
      "19 20 21 22 23 24 25\n",
      "26 27 28 29 30 31\n",
      "\n"
     ]
    }
   ],
   "source": [
    "# Q.03  Write a Python program to display calendar?\n",
    "\n",
    "import calendar\n",
    "\n",
    "month = int(input('Enter the month for which you ant to display the calender:'))\n",
    "year = int(input('Enter the year for which you ant to display the calender:'))\n",
    "\n",
    "print(calendar.month(year,month))"
   ]
  },
  {
   "cell_type": "code",
   "execution_count": 4,
   "id": "47d482b0",
   "metadata": {},
   "outputs": [
    {
     "name": "stdout",
     "output_type": "stream",
     "text": [
      "The solution are (-1.125-0.9921567416492215j) and (-1.125+0.9921567416492215j)\n"
     ]
    }
   ],
   "source": [
    "# Q.04 Write a Python program to solve quadratic equation?\n",
    "# ax**2 + bx + c = 0\n",
    "\n",
    "import cmath\n",
    "x = 4\n",
    "y = 9\n",
    "z = 8\n",
    "\n",
    "\n",
    "d = (y**2) - (4*x*y)\n",
    "\n",
    "sol1 = (-y-cmath.sqrt(d))/(2*x)\n",
    "sol2 = (-y+cmath.sqrt(d))/(2*x)\n",
    "\n",
    "print('The solution are {0} and {1}'.format(sol1,sol2))\n"
   ]
  },
  {
   "cell_type": "code",
   "execution_count": 5,
   "id": "8cbdb422",
   "metadata": {},
   "outputs": [
    {
     "name": "stdout",
     "output_type": "stream",
     "text": [
      "world\n",
      "hello\n"
     ]
    }
   ],
   "source": [
    "# Q.05 Write a Python program to swap two variables without temp variable?\n",
    "\n",
    "a = 'hello'\n",
    "b = 'world'\n",
    "\n",
    "a, b = b, a\n",
    "print(a)\n",
    "print(b)"
   ]
  }
 ],
 "metadata": {
  "kernelspec": {
   "display_name": "Python 3 (ipykernel)",
   "language": "python",
   "name": "python3"
  },
  "language_info": {
   "codemirror_mode": {
    "name": "ipython",
    "version": 3
   },
   "file_extension": ".py",
   "mimetype": "text/x-python",
   "name": "python",
   "nbconvert_exporter": "python",
   "pygments_lexer": "ipython3",
   "version": "3.11.0"
  }
 },
 "nbformat": 4,
 "nbformat_minor": 5
}
