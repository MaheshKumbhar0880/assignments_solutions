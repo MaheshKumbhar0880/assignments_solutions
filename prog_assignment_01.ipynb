{
 "cells": [
  {
   "cell_type": "code",
   "execution_count": 1,
   "id": "99f2571e",
   "metadata": {},
   "outputs": [
    {
     "name": "stdout",
     "output_type": "stream",
     "text": [
      "Hello Python\n"
     ]
    }
   ],
   "source": [
    "# Question 1 solution ---->\n",
    "\n",
    "print('Hello Python')"
   ]
  },
  {
   "cell_type": "code",
   "execution_count": 2,
   "id": "cd5a6836",
   "metadata": {},
   "outputs": [
    {
     "name": "stdout",
     "output_type": "stream",
     "text": [
      "The program for addition -->\n",
      "The addition of 10 and 5 is: 15\n",
      "The program for Division -->\n",
      "The division of 10 and 5 is: 2.0\n"
     ]
    }
   ],
   "source": [
    "# Question 2 solution ---->\n",
    "\n",
    "a = 10\n",
    "b = 5\n",
    "\n",
    "print(\"The program for addition -->\")\n",
    "print(f\"The addition of {a} and {b} is: {a+b}\")\n",
    "\n",
    "print(\"The program for Division -->\")\n",
    "print(f\"The division of {a} and {b} is: {a/b}\")"
   ]
  },
  {
   "cell_type": "code",
   "execution_count": 3,
   "id": "95d77b4d",
   "metadata": {},
   "outputs": [
    {
     "name": "stdout",
     "output_type": "stream",
     "text": [
      "Please enter the height of traingle: 10\n",
      "Please enter the base of traingle: 20\n",
      "The area of provided traiangle is --->100.0\n"
     ]
    }
   ],
   "source": [
    "# Question 3 solution ---->\n",
    "\n",
    "height = int(input('Please enter the height of traingle: '))\n",
    "base_width = int(input('Please enter the base of traingle: '))\n",
    "\n",
    "area = (height * base_width) / 2\n",
    "\n",
    "print(f\"The area of provided traiangle is --->{area}\")"
   ]
  },
  {
   "cell_type": "code",
   "execution_count": 4,
   "id": "9f8e7d19",
   "metadata": {},
   "outputs": [
    {
     "name": "stdout",
     "output_type": "stream",
     "text": [
      "enter value of a: 5\n",
      "enter value of b: 10\n",
      "The swaped values of a, b are : 10, 5 respectively\n"
     ]
    }
   ],
   "source": [
    "# Question 4 solution ---->\n",
    "\n",
    "a = int(input(\"enter value of a: \"))\n",
    "b = int(input(\"enter value of b: \"))\n",
    "\n",
    "a, b = b, a\n",
    "\n",
    "print(f\"The swaped values of a, b are : {a}, {b} respectively\")"
   ]
  },
  {
   "cell_type": "code",
   "execution_count": 5,
   "id": "1ab25a46",
   "metadata": {},
   "outputs": [
    {
     "name": "stdout",
     "output_type": "stream",
     "text": [
      "9\n"
     ]
    }
   ],
   "source": [
    "# Question 5 solution ---->\n",
    "\n",
    "import random\n",
    "\n",
    "a = random.randint(0,10)    # this generates the random number between o and 10.\n",
    "print(a)"
   ]
  }
 ],
 "metadata": {
  "kernelspec": {
   "display_name": "Python 3 (ipykernel)",
   "language": "python",
   "name": "python3"
  },
  "language_info": {
   "codemirror_mode": {
    "name": "ipython",
    "version": 3
   },
   "file_extension": ".py",
   "mimetype": "text/x-python",
   "name": "python",
   "nbconvert_exporter": "python",
   "pygments_lexer": "ipython3",
   "version": "3.11.0"
  }
 },
 "nbformat": 4,
 "nbformat_minor": 5
}
